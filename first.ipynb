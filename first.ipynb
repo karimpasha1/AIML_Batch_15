{
  "nbformat": 4,
  "nbformat_minor": 0,
  "metadata": {
    "colab": {
      "provenance": [],
      "authorship_tag": "ABX9TyNyvqqE9hYgSFFKcByRKmdF",
      "include_colab_link": true
    },
    "kernelspec": {
      "name": "python3",
      "display_name": "Python 3"
    },
    "language_info": {
      "name": "python"
    }
  },
  "cells": [
    {
      "cell_type": "markdown",
      "metadata": {
        "id": "view-in-github",
        "colab_type": "text"
      },
      "source": [
        "<a href=\"https://colab.research.google.com/github/karimpasha1/AIML_Batch_15/blob/main/first.ipynb\" target=\"_parent\"><img src=\"https://colab.research.google.com/assets/colab-badge.svg\" alt=\"Open In Colab\"/></a>"
      ]
    },
    {
      "cell_type": "code",
      "execution_count": 1,
      "metadata": {
        "colab": {
          "base_uri": "https://localhost:8080/"
        },
        "id": "m21znsJAtySb",
        "outputId": "c4fc3213-e28b-4f78-de05-69a78fe0f9c7"
      },
      "outputs": [
        {
          "output_type": "stream",
          "name": "stdout",
          "text": [
            "[1, 2, 3, 43, 454]\n",
            "[  1   2   3  43 454]\n"
          ]
        }
      ],
      "source": [
        "import numpy as np\n",
        "var=[1,2,3,43,454]\n",
        "array1=np.array(var)\n",
        "print(var)\n",
        "print(array1)"
      ]
    }
  ]
}